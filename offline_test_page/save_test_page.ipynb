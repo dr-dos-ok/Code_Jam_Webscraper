{
 "cells": [
  {
   "cell_type": "code",
   "execution_count": 39,
   "metadata": {},
   "outputs": [],
   "source": [
    "import pickle\n",
    "from helper import *"
   ]
  },
  {
   "cell_type": "code",
   "execution_count": 2,
   "metadata": {},
   "outputs": [],
   "source": [
    "test_main_page = simple_get('https://www.go-hero.net/jam/08/solutions/0/1/Python')\n",
    "test_sub_page = simple_get('https://www.go-hero.net/jam/08/solutions/0/1/Python/partial/1')\n",
    "\n",
    "with open(\"test_sub_page.p\", \"wb\") as sub, open(\"test_main_page.p\", \"wb\") as main:\n",
    "    pickle.dump(test_sub_page, sub)\n",
    "    pickle.dump(test_main_page, main)"
   ]
  }
 ],
 "metadata": {
  "kernelspec": {
   "display_name": "Python 3",
   "language": "python",
   "name": "python3"
  },
  "language_info": {
   "codemirror_mode": {
    "name": "ipython",
    "version": 3
   },
   "file_extension": ".py",
   "mimetype": "text/x-python",
   "name": "python",
   "nbconvert_exporter": "python",
   "pygments_lexer": "ipython3",
   "version": "3.6.6"
  }
 },
 "nbformat": 4,
 "nbformat_minor": 2
}
