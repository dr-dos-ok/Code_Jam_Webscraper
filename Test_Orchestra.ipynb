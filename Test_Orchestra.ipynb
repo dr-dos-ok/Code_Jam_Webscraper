{
 "cells": [
  {
   "cell_type": "code",
   "execution_count": 1,
   "metadata": {},
   "outputs": [],
   "source": [
    "import Orchestra\n",
    "import unittest\n",
    "from unittest.mock import patch"
   ]
  },
  {
   "cell_type": "code",
   "execution_count": 2,
   "metadata": {},
   "outputs": [],
   "source": [
    "def is_url_valid(url):\n",
    "            if url in valid_urls:\n",
    "                return 'Some content'\n",
    "            else:\n",
    "                return None"
   ]
  },
  {
   "cell_type": "code",
   "execution_count": 3,
   "metadata": {},
   "outputs": [],
   "source": [
    "valid_urls = ('https://www.go-hero.net/jam/08/solutions/0/1/Python',\n",
    "              'https://www.go-hero.net/jam/08/solutions/1/1/Python',\n",
    "              'https://www.go-hero.net/jam/08/solutions/1/2/Python',\n",
    "              'https://www.go-hero.net/jam/10/solutions/0/1/Python',\n",
    "              'https://www.go-hero.net/jam/17/solutions/0/1/Python',\n",
    "              'https://www.go-hero.net/jam/17/solutions/0/2/Python',\n",
    "             )"
   ]
  },
  {
   "cell_type": "code",
   "execution_count": 4,
   "metadata": {},
   "outputs": [],
   "source": [
    "problem_list = [('08', 0, 1, 'save_path_nr_1'),\n",
    "                ('08', 1, 1, 'save_path_nr_2'),\n",
    "                ('08', 1, 2, 'save_path_nr_3'),\n",
    "                ('10', 0, 1, 'save_path_nr_4'),\n",
    "                ('17', 0, 1, 'save_path_nr_5'),\n",
    "                ('17', 0, 2, 'save_path_nr_6')\n",
    "               ]"
   ]
  },
  {
   "cell_type": "code",
   "execution_count": 28,
   "metadata": {},
   "outputs": [],
   "source": [
    "class TestOrchestra(unittest.TestCase):\n",
    "    \n",
    "    def test_make_problem_list(self):\n",
    "        with patch('Orchestra.simple_get') as mocked_get:\n",
    "            mocked_get.side_effect = is_url_valid\n",
    "            \n",
    "            o = Orchestra.Orchestra('save_path_nr_')\n",
    "            o.make_problem_list()\n",
    "            \n",
    "            for valid_url in valid_urls:\n",
    "                mocked_get.assert_any_call(valid_url)\n",
    "            self.assertEqual(o.problem_list, problem_list)"
   ]
  },
  {
   "cell_type": "code",
   "execution_count": 29,
   "metadata": {},
   "outputs": [
    {
     "name": "stderr",
     "output_type": "stream",
     "text": [
      ".\n",
      "----------------------------------------------------------------------\n",
      "Ran 1 test in 0.002s\n",
      "\n",
      "OK\n"
     ]
    }
   ],
   "source": [
    "if __name__== '__main__':\n",
    "    unittest.main(argv=['first-arg-is-ignored'], exit=False) #Jupyter notebook need those args"
   ]
  }
 ],
 "metadata": {
  "kernelspec": {
   "display_name": "Python 3",
   "language": "python",
   "name": "python3"
  },
  "language_info": {
   "codemirror_mode": {
    "name": "ipython",
    "version": 3
   },
   "file_extension": ".py",
   "mimetype": "text/x-python",
   "name": "python",
   "nbconvert_exporter": "python",
   "pygments_lexer": "ipython3",
   "version": "3.6.6"
  }
 },
 "nbformat": 4,
 "nbformat_minor": 2
}
