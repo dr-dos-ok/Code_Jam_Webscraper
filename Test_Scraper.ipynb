{
 "cells": [
  {
   "cell_type": "code",
   "execution_count": 1,
   "metadata": {},
   "outputs": [],
   "source": [
    "import Scraper\n",
    "import unittest\n",
    "from unittest.mock import patch\n",
    "import pickle"
   ]
  },
  {
   "cell_type": "code",
   "execution_count": 2,
   "metadata": {},
   "outputs": [],
   "source": [
    "class TestScraper(unittest.TestCase):\n",
    "    def setUp(self):\n",
    "        self.download_links = ['https://code.google.com/codejam/contest/scoreboard/do?cmd=GetSourceCode&contest=32013&problem=24480&io_set_id=1&username=xyx',\n",
    "                               'https://code.google.com/codejam/contest/scoreboard/do?cmd=GetSourceCode&contest=32013&problem=24480&io_set_id=1&username=Fj.',\n",
    "                               'https://code.google.com/codejam/contest/scoreboard/do?cmd=GetSourceCode&contest=32013&problem=24480&io_set_id=1&username=Shinigami',\n",
    "                               'https://code.google.com/codejam/contest/scoreboard/do?cmd=GetSourceCode&contest=32013&problem=24480&io_set_id=1&username=Galt',\n",
    "                               'https://code.google.com/codejam/contest/scoreboard/do?cmd=GetSourceCode&contest=32013&problem=24480&io_set_id=1&username=Chirono',\n",
    "                               'https://code.google.com/codejam/contest/scoreboard/do?cmd=GetSourceCode&contest=32013&problem=24480&io_set_id=1&username=alexk'\n",
    "                              ]\n",
    "        with open(\"test_main_page.p\", \"rb\") as main, open(\"test_sub_page.p\", \"rb\") as sub :\n",
    "            self.main_page = pickle.load(main)\n",
    "            self.sub_page = pickle.load(sub)\n",
    "            \n",
    "    def test_get_all_downlad_links(self):\n",
    "        def is_valid_url(url):\n",
    "            if url == 'https://www.go-hero.net/jam/08/solutions/0/1/Python':\n",
    "                return self.main_page\n",
    "            elif url == 'https://www.go-hero.net/jam/08/solutions/0/1/Python/partial/1':\n",
    "                return self.sub_page\n",
    "            else:\n",
    "                return None\n",
    "            \n",
    "        with patch('Scraper.simple_get') as mocked_get:\n",
    "            mocked_get.side_effect = is_valid_url\n",
    "            \n",
    "            s = Scraper.Scraper('08', 0, 1, 'save_path_nr_1')\n",
    "            s.get_all_download_links()\n",
    "            sample_links = [s.download_links[0],\n",
    "                            s.download_links[50],\n",
    "                            s.download_links[99],\n",
    "                            s.download_links[100],\n",
    "                            s.download_links[110],\n",
    "                            s.download_links[199]\n",
    "                           ]\n",
    "            \n",
    "            self.assertEqual(sample_links, self.download_links)"
   ]
  },
  {
   "cell_type": "code",
   "execution_count": 3,
   "metadata": {
    "scrolled": false
   },
   "outputs": [
    {
     "name": "stderr",
     "output_type": "stream",
     "text": [
      ".\n",
      "----------------------------------------------------------------------\n",
      "Ran 1 test in 0.087s\n",
      "\n",
      "OK\n"
     ]
    }
   ],
   "source": [
    "if __name__== '__main__':\n",
    "    unittest.main(argv=['first-arg-is-ignored'], exit=False)"
   ]
  }
 ],
 "metadata": {
  "kernelspec": {
   "display_name": "Python 3",
   "language": "python",
   "name": "python3"
  },
  "language_info": {
   "codemirror_mode": {
    "name": "ipython",
    "version": 3
   },
   "file_extension": ".py",
   "mimetype": "text/x-python",
   "name": "python",
   "nbconvert_exporter": "python",
   "pygments_lexer": "ipython3",
   "version": "3.6.6"
  }
 },
 "nbformat": 4,
 "nbformat_minor": 2
}
