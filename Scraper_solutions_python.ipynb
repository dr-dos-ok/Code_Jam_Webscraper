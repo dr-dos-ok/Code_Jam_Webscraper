{
 "cells": [
  {
   "cell_type": "code",
   "execution_count": 1,
   "metadata": {},
   "outputs": [],
   "source": [
    "from requests import get\n",
    "from requests.exceptions import RequestException\n",
    "from contextlib import closing\n",
    "from bs4 import BeautifulSoup\n",
    "import re\n",
    "import zipfile\n",
    "import io"
   ]
  },
  {
   "cell_type": "code",
   "execution_count": 2,
   "metadata": {},
   "outputs": [],
   "source": [
    "def simple_get(url):\n",
    "\n",
    "    try:\n",
    "        with closing(get(url, stream=True)) as resp:\n",
    "            if is_good_response(resp):\n",
    "                return resp.content\n",
    "            else:\n",
    "                return None\n",
    "\n",
    "    except RequestException as e:\n",
    "        print('Error during requests to {0} : {1}'.format(url, str(e)))\n",
    "        return None\n",
    "\n",
    "def is_good_response(resp):\n",
    "    \n",
    "    content_type = resp.headers['Content-Type'].lower()\n",
    "    return (resp.status_code == 200 \n",
    "            and content_type is not None \n",
    "            and content_type.find('html') > -1)"
   ]
  },
  {
   "cell_type": "code",
   "execution_count": 3,
   "metadata": {},
   "outputs": [],
   "source": [
    "def get_download_links_from_url(url):\n",
    "    \n",
    "    html=BeautifulSoup(simple_get(url),'html.parser')\n",
    "    links= get_download_links_from_html(html)\n",
    "    \n",
    "    page=1\n",
    "    \n",
    "    while simple_get(url+'/partial/'+str(page)) is not None:\n",
    "        html=BeautifulSoup(simple_get(url+'/partial/'+str(page)),'html.parser')\n",
    "        links.extend(get_download_links_from_html(html))\n",
    "        page+=1\n",
    "    \n",
    "    return links\n",
    " \n",
    "def get_download_links_from_html(html):\n",
    "    \n",
    "    links=[]\n",
    "    \n",
    "    for link_text in html.select('a'):\n",
    "        if extract_download_link(link_text) is not None:\n",
    "            links.append(extract_download_link(link_text))\n",
    "    \n",
    "    return links\n",
    "\n",
    "def extract_download_link(text):\n",
    "    \n",
    "    try:\n",
    "        download_link= \"https://code\"+ re.search('\"http://code(.*?)\"',str(text)).group(1)\n",
    "        download_link= re.sub(\"&amp;\",\"&\",download_link)\n",
    "        return download_link\n",
    "    \n",
    "    except AttributeError:\n",
    "        return None"
   ]
  },
  {
   "cell_type": "code",
   "execution_count": 4,
   "metadata": {},
   "outputs": [],
   "source": [
    "def download_file_from(link,path):\n",
    "    r = get(link,stream=True)\n",
    "    z = zipfile.ZipFile(io.BytesIO(r.content))\n",
    "    z.extractall(path=path)"
   ]
  },
  {
   "cell_type": "code",
   "execution_count": 5,
   "metadata": {},
   "outputs": [],
   "source": [
    "URL= 'https://www.go-hero.net/jam/'    \n",
    "PATH=\"Solutions_in_python/Problem_\"\n",
    "\n",
    "problem_number=1\n",
    "round_number=0\n",
    "url= URL+f'08/solutions/{round_number}/{problem_number}/Python'"
   ]
  },
  {
   "cell_type": "code",
   "execution_count": 6,
   "metadata": {},
   "outputs": [],
   "source": [
    "links= get_download_links_from_url(url)"
   ]
  },
  {
   "cell_type": "code",
   "execution_count": 7,
   "metadata": {},
   "outputs": [],
   "source": [
    "!mkdir {PATH}{problem_number}"
   ]
  },
  {
   "cell_type": "code",
   "execution_count": 9,
   "metadata": {},
   "outputs": [],
   "source": [
    "for link in links:\n",
    "    download_file_from(link,PATH+str(problem_number))"
   ]
  },
  {
   "cell_type": "code",
   "execution_count": null,
   "metadata": {},
   "outputs": [],
   "source": []
  }
 ],
 "metadata": {
  "kernelspec": {
   "display_name": "Python 3",
   "language": "python",
   "name": "python3"
  },
  "language_info": {
   "codemirror_mode": {
    "name": "ipython",
    "version": 3
   },
   "file_extension": ".py",
   "mimetype": "text/x-python",
   "name": "python",
   "nbconvert_exporter": "python",
   "pygments_lexer": "ipython3",
   "version": "3.6.6"
  }
 },
 "nbformat": 4,
 "nbformat_minor": 2
}
