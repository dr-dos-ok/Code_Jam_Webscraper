{
 "cells": [
  {
   "cell_type": "code",
   "execution_count": 1,
   "metadata": {},
   "outputs": [],
   "source": [
    "from test_config import *\n",
    "import orchestra \n",
    "import unittest\n",
    "from unittest.mock import patch"
   ]
  },
  {
   "cell_type": "code",
   "execution_count": 2,
   "metadata": {},
   "outputs": [],
   "source": [
    "class TestOrchestra(unittest.TestCase):\n",
    "    def test_make_problem_list(self):\n",
    "        with patch('orchestra.simple_get') as mocked_get:\n",
    "            mocked_get.side_effect = lambda url: \"Some content\" if url in VALID_URL else None\n",
    "            \n",
    "            problem_list = orchestra.make_problem_list()\n",
    "            \n",
    "            for valid_url in VALID_URL:\n",
    "                mocked_get.assert_any_call(valid_url)\n",
    "            self.assertEqual(problem_list, PROBLEM_LIST)"
   ]
  },
  {
   "cell_type": "code",
   "execution_count": 3,
   "metadata": {},
   "outputs": [
    {
     "name": "stderr",
     "output_type": "stream",
     "text": [
      ".\n",
      "----------------------------------------------------------------------\n",
      "Ran 1 test in 0.003s\n",
      "\n",
      "OK\n"
     ]
    }
   ],
   "source": [
    "if __name__== '__main__':\n",
    "    unittest.main(argv=['first-arg-is-ignored'], exit=False) #Jupyter notebook need those args"
   ]
  }
 ],
 "metadata": {
  "kernelspec": {
   "display_name": "Python 3",
   "language": "python",
   "name": "python3"
  },
  "language_info": {
   "codemirror_mode": {
    "name": "ipython",
    "version": 3
   },
   "file_extension": ".py",
   "mimetype": "text/x-python",
   "name": "python",
   "nbconvert_exporter": "python",
   "pygments_lexer": "ipython3",
   "version": "3.6.6"
  }
 },
 "nbformat": 4,
 "nbformat_minor": 2
}
