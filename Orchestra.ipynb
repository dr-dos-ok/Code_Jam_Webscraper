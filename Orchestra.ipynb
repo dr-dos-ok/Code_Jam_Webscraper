{
 "cells": [
  {
   "cell_type": "code",
   "execution_count": 2,
   "metadata": {},
   "outputs": [],
   "source": [
    "import logging\n",
    "from Helper import *"
   ]
  },
  {
   "cell_type": "code",
   "execution_count": 3,
   "metadata": {},
   "outputs": [],
   "source": [
    "class Orchestra:\n",
    "    \n",
    "    _years = ['08','09','10','11','12','13','14','15','16','17']\n",
    "    _language = 'Python'\n",
    "    _URL = 'https://www.go-hero.net/jam/'\n",
    "     \n",
    "    def __init__(self, save_path):\n",
    "        self._round_nr = 0\n",
    "        self._problem_nr = 1\n",
    "        self._dir_nr = 1\n",
    "        self._save_path = save_path\n",
    "        self._url = self._URL + f'{self._years[0]}/solutions/{self._round_nr}/{self._problem_nr}/{self._language}'\n",
    "        self.problem_list = []\n",
    "        self._logger = logging.getLogger(__name__)\n",
    "        self._logger.info('Init Orchestra')\n",
    "        \n",
    "    def make_problem_list(self):\n",
    "        self._logger.info('Making problem list')\n",
    "        for year in self._years:\n",
    "            self._init_new_year(year)\n",
    "            while simple_get(self._url) is not None:\n",
    "                while simple_get(self._url) is not None:\n",
    "                    self.problem_list.append((year, self._round_nr, self._problem_nr, self._save_path + str(self._dir_nr)))\n",
    "                    self._logger.debug('Appending--- year: %s roundnr: %s problemnr: %s savepath: %s',\n",
    "                                       year, self._round_nr, self._problem_nr, self._save_path + str(self._dir_nr))\n",
    "                    self._init_next_problem(year)\n",
    "                self._init_next_round(year)\n",
    "        self._logger.info('Finished problem list of %s items', len(self.problem_list))\n",
    "    \n",
    "    def _init_new_year(self, year):\n",
    "        self._round_nr = 0\n",
    "        self._problem_nr = 1\n",
    "        self._url = self._URL + f'{year}/solutions/{self._round_nr}/{self._problem_nr}/{self._language}'\n",
    "        \n",
    "    def _init_next_round(self, year):\n",
    "        self._round_nr += 1\n",
    "        self._problem_nr = 1\n",
    "        self._url = self._URL + f'{year}/solutions/{self._round_nr}/{self._problem_nr}/{self._language}'\n",
    "        \n",
    "    def _init_next_problem(self, year):\n",
    "        self._problem_nr += 1\n",
    "        self._url = self._URL + f'{year}/solutions/{self._round_nr}/{self._problem_nr}/{self._language}'\n",
    "        self._dir_nr += 1\n",
    "        "
   ]
  }
 ],
 "metadata": {
  "kernelspec": {
   "display_name": "Python 3",
   "language": "python",
   "name": "python3"
  },
  "language_info": {
   "codemirror_mode": {
    "name": "ipython",
    "version": 3
   },
   "file_extension": ".py",
   "mimetype": "text/x-python",
   "name": "python",
   "nbconvert_exporter": "python",
   "pygments_lexer": "ipython3",
   "version": "3.6.6"
  }
 },
 "nbformat": 4,
 "nbformat_minor": 2
}
